{
  "nbformat": 4,
  "nbformat_minor": 0,
  "metadata": {
    "colab": {
      "provenance": [],
      "include_colab_link": true
    },
    "kernelspec": {
      "name": "python3",
      "display_name": "Python 3"
    },
    "language_info": {
      "name": "python"
    }
  },
  "cells": [
    {
      "cell_type": "markdown",
      "metadata": {
        "id": "view-in-github",
        "colab_type": "text"
      },
      "source": [
        "<a href=\"https://colab.research.google.com/github/suspenseful3day/sun2/blob/main/202110900_%EA%B3%BD%EC%9D%98%EC%8B%A0_%EC%8B%A4%EC%8A%B5.ipynb\" target=\"_parent\"><img src=\"https://colab.research.google.com/assets/colab-badge.svg\" alt=\"Open In Colab\"/></a>"
      ]
    },
    {
      "cell_type": "code",
      "execution_count": null,
      "metadata": {
        "colab": {
          "base_uri": "https://localhost:8080/"
        },
        "id": "CgQ2954EVzel",
        "outputId": "b110c5eb-71bd-4152-dd16-8900d77c633c"
      },
      "outputs": [
        {
          "output_type": "stream",
          "name": "stdout",
          "text": [
            "Hello World\n",
            "정수: 3, 03, 003, 0003, 00003\n",
            "실수: 256, 256.1, 256.12\n",
            "문자열: [hello, world]\n"
          ]
        }
      ],
      "source": [
        "print(\"Hello World\")\n",
        "\n",
        "#integer\n",
        "x = 3\n",
        "print (\"정수: %01d, %02d, %03d, %04d, %05d\"\n",
        "      % ( x,x,x,x,x))\n",
        "\n",
        "# float\n",
        "x = 256.123\n",
        "print ( \"실수: %.0f, %.1f, %.2f\"\n",
        "      %(x,x,x))\n",
        "\n",
        "# string\n",
        "x = \"hello, world\"\n",
        "print (\"문자열: [%s]\" % (x))"
      ]
    },
    {
      "cell_type": "markdown",
      "source": [
        "반복문,조건문"
      ],
      "metadata": {
        "id": "MK9Uu598YnYs"
      }
    },
    {
      "cell_type": "code",
      "source": [
        "contents = [\"regression\", \"classification\", \"svm\", \"clustering\", \"dimension reduction\",\n",
        "            \"nn\", \"cnn\", \"ae\", \"gan\", \"rnn\"]\n",
        "for con in contents:\n",
        "  if con in [\"regression\", \"classification\", \"svm\", \"clustering\", \"dimension reduction\"]:\n",
        "    print (\"%s 은(는) 기계학습 내용입니다.\" %con)\n",
        "  elif con in [\"cnn\"]:\n",
        "    print(\"%s 은(는) convolutional neural network입니다.\" %con)\n",
        "  else:\n",
        "    print (\"%s은(는) 심층학습 내용입니다.\" %con)"
      ],
      "metadata": {
        "colab": {
          "base_uri": "https://localhost:8080/"
        },
        "id": "Jf16BMSzYtaf",
        "outputId": "25ec8b4d-f35c-4c26-df74-4e74dea60201"
      },
      "execution_count": null,
      "outputs": [
        {
          "output_type": "stream",
          "name": "stdout",
          "text": [
            "regression 은(는) 기계학습 내용입니다.\n",
            "classification 은(는) 기계학습 내용입니다.\n",
            "svm 은(는) 기계학습 내용입니다.\n",
            "clustering 은(는) 기계학습 내용입니다.\n",
            "dimension reduction 은(는) 기계학습 내용입니다.\n",
            "nn은(는) 심층학습 내용입니다.\n",
            "cnn 은(는) convolutional neural network입니다.\n",
            "ae은(는) 심층학습 내용입니다.\n",
            "gan은(는) 심층학습 내용입니다.\n",
            "rnn은(는) 심층학습 내용입니다.\n"
          ]
        }
      ]
    },
    {
      "cell_type": "markdown",
      "source": [
        "반복문과 인덱스"
      ],
      "metadata": {
        "id": "e5zyOMzGaAil"
      }
    },
    {
      "cell_type": "code",
      "source": [
        "for (i,con) in enumerate(contents):\n",
        "  print (\"[%d/%d]: %s\" %(i, len(contents), con))"
      ],
      "metadata": {
        "colab": {
          "base_uri": "https://localhost:8080/"
        },
        "id": "sRcLmkCSaD57",
        "outputId": "dadbcc89-4a6e-4538-d12d-2bbe95165f49"
      },
      "execution_count": null,
      "outputs": [
        {
          "output_type": "stream",
          "name": "stdout",
          "text": [
            "[0/10]: regression\n",
            "[1/10]: classification\n",
            "[2/10]: svm\n",
            "[3/10]: clustering\n",
            "[4/10]: dimension reduction\n",
            "[5/10]: nn\n",
            "[6/10]: cnn\n",
            "[7/10]: ae\n",
            "[8/10]: gan\n",
            "[9/10]: rnn\n"
          ]
        }
      ]
    },
    {
      "cell_type": "markdown",
      "source": [
        "함수"
      ],
      "metadata": {
        "id": "HtPX1ynCbb3Z"
      }
    },
    {
      "cell_type": "code",
      "source": [
        "def sum(a,b):\n",
        "  return a+b\n",
        "\n",
        "x = 10.0\n",
        "y = 20.0\n",
        "print (\"%.1f + %.1f = %.1f\" %(x, y, sum(x,y)))"
      ],
      "metadata": {
        "colab": {
          "base_uri": "https://localhost:8080/"
        },
        "id": "SIJJvLetbeVd",
        "outputId": "3d807d92-0fe2-46c3-c88f-7d512af62b1a"
      },
      "execution_count": null,
      "outputs": [
        {
          "output_type": "stream",
          "name": "stdout",
          "text": [
            "10.0 + 20.0 = 30.0\n"
          ]
        }
      ]
    },
    {
      "cell_type": "markdown",
      "source": [
        "리스트"
      ],
      "metadata": {
        "id": "tOQvhNiEb3mI"
      }
    },
    {
      "cell_type": "code",
      "source": [
        "a = []\n",
        "b = [1,2,3]\n",
        "c = [\"hello\", \",\", \"world\"]\n",
        "d = [1,2,3,\"x\", \"y\", \"z\"]\n",
        "x = []\n",
        "print (x)\n",
        "\n",
        "x.append('a')\n",
        "print(x)\n",
        "\n",
        "x.append(123)\n",
        "print(x)\n",
        "\n",
        "x.append([\"a\", \"b\"])\n",
        "print (x)\n"
      ],
      "metadata": {
        "colab": {
          "base_uri": "https://localhost:8080/"
        },
        "id": "7k3RJM8mb57j",
        "outputId": "9e75e7c5-7a20-400a-c215-a75dc4bfff23"
      },
      "execution_count": null,
      "outputs": [
        {
          "output_type": "stream",
          "name": "stdout",
          "text": [
            "[]\n",
            "['a']\n",
            "['a', 123]\n",
            "['a', 123, ['a', 'b']]\n"
          ]
        }
      ]
    },
    {
      "cell_type": "markdown",
      "source": [
        "딕셔너리"
      ],
      "metadata": {
        "id": "VAgPrpOCcxWf"
      }
    },
    {
      "cell_type": "code",
      "source": [
        "dic = dict()\n",
        "dic[\"name\"] = \"daesik\"\n",
        "dic[\"town\"] = \"yongin city\"\n",
        "dic[\"job\"] = \"assistant professor\"\n",
        "print (dic)"
      ],
      "metadata": {
        "colab": {
          "base_uri": "https://localhost:8080/"
        },
        "id": "C7EwJr7Pc1D1",
        "outputId": "0e818a22-5ee7-41e1-d9ef-b5d292e1f449"
      },
      "execution_count": null,
      "outputs": [
        {
          "output_type": "stream",
          "name": "stdout",
          "text": [
            "{'name': 'daesik', 'town': 'yongin city', 'job': 'assistant professor'}\n"
          ]
        }
      ]
    },
    {
      "cell_type": "markdown",
      "source": [
        "클래스"
      ],
      "metadata": {
        "id": "SE7DjiKudO86"
      }
    },
    {
      "cell_type": "code",
      "source": [
        "class student:\n",
        "  # 생성자\n",
        "  def __init__(self, name):\n",
        "    self.name = name\n",
        "  def study(self, hard=False):\n",
        "    if hard:\n",
        "      print (\"%s 학생은 열심히 공부합니다.\" %self.name)\n",
        "    else:\n",
        "      print (\"%s 학생은 공부합니다.\" %self.name)\n",
        "\n",
        "s = student('daesik')\n",
        "s.study()\n",
        "s.study(hard = True)"
      ],
      "metadata": {
        "colab": {
          "base_uri": "https://localhost:8080/"
        },
        "id": "LmguUCfZdQOl",
        "outputId": "17edb9cc-c2bc-4f11-8697-abf1981298b3"
      },
      "execution_count": null,
      "outputs": [
        {
          "output_type": "stream",
          "name": "stdout",
          "text": [
            "daesik 학생은 공부합니다.\n",
            "daesik 학생은 열심히 공부합니다.\n"
          ]
        }
      ]
    },
    {
      "cell_type": "markdown",
      "source": [
        "2. 벡터, 행렬 연산, 그래프 그리기"
      ],
      "metadata": {
        "id": "GJNS1m-NeSUm"
      }
    },
    {
      "cell_type": "markdown",
      "source": [
        "라이브러리 로드"
      ],
      "metadata": {
        "id": "_U0gfTXPOlXo"
      }
    },
    {
      "cell_type": "code",
      "source": [
        "import numpy as np\n"
      ],
      "metadata": {
        "id": "ACGkX_vJOnP8"
      },
      "execution_count": null,
      "outputs": []
    },
    {
      "cell_type": "markdown",
      "source": [
        "프린트"
      ],
      "metadata": {
        "id": "z6dOSKzNegje"
      }
    },
    {
      "cell_type": "code",
      "source": [
        "def print_val(x):\n",
        "  print (\"Type:\", type(x))\n",
        "  print (\"shape:\", x.shape)\n",
        "  print (\"값:\\n\", x)\n",
        "  print (\" \")"
      ],
      "metadata": {
        "id": "xYyCIYC9ejb8"
      },
      "execution_count": null,
      "outputs": []
    },
    {
      "cell_type": "markdown",
      "source": [
        "rank 1 up array"
      ],
      "metadata": {
        "id": "X44tGsdyNNKC"
      }
    },
    {
      "cell_type": "code",
      "source": [
        "x = np.array([1, 2, 3])\n",
        "print_val(x)\n",
        "\n",
        "x[0] = 5\n",
        "print_val(x)"
      ],
      "metadata": {
        "id": "9c3tC-aqNV-G",
        "colab": {
          "base_uri": "https://localhost:8080/"
        },
        "outputId": "0b77289b-0b9b-49cc-8201-19f39b3fd2dd"
      },
      "execution_count": null,
      "outputs": [
        {
          "output_type": "stream",
          "name": "stdout",
          "text": [
            "Type: <class 'numpy.ndarray'>\n",
            "shape: (3,)\n",
            "값:\n",
            " [1 2 3]\n",
            " \n",
            "Type: <class 'numpy.ndarray'>\n",
            "shape: (3,)\n",
            "값:\n",
            " [5 2 3]\n",
            " \n"
          ]
        }
      ]
    },
    {
      "cell_type": "markdown",
      "source": [
        "랜덤행렬"
      ],
      "metadata": {
        "id": "NvQykRxNNsyc"
      }
    },
    {
      "cell_type": "code",
      "source": [
        "a = np.random.random((4, 4))\n",
        "print_val(a)"
      ],
      "metadata": {
        "id": "btrLHqo1N2j8",
        "outputId": "da334ee9-ddb4-4657-dc61-d0f7a0dd19a2",
        "colab": {
          "base_uri": "https://localhost:8080/"
        }
      },
      "execution_count": null,
      "outputs": [
        {
          "output_type": "stream",
          "name": "stdout",
          "text": [
            "Type: <class 'numpy.ndarray'>\n",
            "shape: (4, 4)\n",
            "값:\n",
            " [[0.0927969  0.93634299 0.1481263  0.68625196]\n",
            " [0.71408372 0.05215834 0.24306238 0.47777429]\n",
            " [0.05535228 0.84374657 0.7113318  0.98692446]\n",
            " [0.62005958 0.43127726 0.23014302 0.67479001]]\n",
            " \n"
          ]
        }
      ]
    },
    {
      "cell_type": "code",
      "source": [
        "a = np.random.randn(4,4)\n",
        "print_val(a)"
      ],
      "metadata": {
        "id": "USM1i0LFPmba",
        "outputId": "23218ab3-d062-484d-8515-404239aed616",
        "colab": {
          "base_uri": "https://localhost:8080/"
        }
      },
      "execution_count": null,
      "outputs": [
        {
          "output_type": "stream",
          "name": "stdout",
          "text": [
            "Type: <class 'numpy.ndarray'>\n",
            "shape: (4, 4)\n",
            "값:\n",
            " [[ 0.46296181 -0.55702923  2.63003856  0.33527629]\n",
            " [ 1.99881986  1.96721705  0.72942977 -0.5449579 ]\n",
            " [-1.07197995 -1.16702493 -1.14899681 -0.76606451]\n",
            " [-0.97255012 -0.21299136 -1.0432885  -1.53417078]]\n",
            " \n"
          ]
        }
      ]
    },
    {
      "cell_type": "markdown",
      "source": [
        "np array indexing"
      ],
      "metadata": {
        "id": "GVG_LppiPsg2"
      }
    },
    {
      "cell_type": "code",
      "source": [
        "a = np.array([[1,2,3,4], [5,6,7,8], [9,10,11,12]])\n",
        "print_val(a)"
      ],
      "metadata": {
        "id": "YMt0ZRttPvL0",
        "outputId": "a006abc5-1eca-4ebf-bccc-31d28ad8093e",
        "colab": {
          "base_uri": "https://localhost:8080/"
        }
      },
      "execution_count": null,
      "outputs": [
        {
          "output_type": "stream",
          "name": "stdout",
          "text": [
            "Type: <class 'numpy.ndarray'>\n",
            "shape: (3, 4)\n",
            "값:\n",
            " [[ 1  2  3  4]\n",
            " [ 5  6  7  8]\n",
            " [ 9 10 11 12]]\n",
            " \n"
          ]
        }
      ]
    },
    {
      "cell_type": "code",
      "source": [
        "b = a[:2, 1:3]\n",
        "print_val(b)"
      ],
      "metadata": {
        "id": "Zb4bVgWwP418",
        "outputId": "0363664c-e168-402f-8f60-d30b2d549c35",
        "colab": {
          "base_uri": "https://localhost:8080/"
        }
      },
      "execution_count": null,
      "outputs": [
        {
          "output_type": "stream",
          "name": "stdout",
          "text": [
            "Type: <class 'numpy.ndarray'>\n",
            "shape: (2, 2)\n",
            "값:\n",
            " [[2 3]\n",
            " [6 7]]\n",
            " \n"
          ]
        }
      ]
    },
    {
      "cell_type": "markdown",
      "source": [
        "행렬의 n번째 행 얻기"
      ],
      "metadata": {
        "id": "V6OaA_Y5QOSV"
      }
    },
    {
      "cell_type": "code",
      "source": [
        "row1 = a[1, :]\n",
        "print_val(row1)"
      ],
      "metadata": {
        "colab": {
          "base_uri": "https://localhost:8080/"
        },
        "id": "3-JUkHpDQQLo",
        "outputId": "03803718-bfb5-4001-9565-88db2589b597"
      },
      "execution_count": null,
      "outputs": [
        {
          "output_type": "stream",
          "name": "stdout",
          "text": [
            "Type: <class 'numpy.ndarray'>\n",
            "shape: (4,)\n",
            "값:\n",
            " [5 6 7 8]\n",
            " \n"
          ]
        }
      ]
    },
    {
      "cell_type": "markdown",
      "source": [
        "행렬의 원소별 연산\n"
      ],
      "metadata": {
        "id": "h0CVL0omQkPB"
      }
    },
    {
      "cell_type": "code",
      "source": [
        "m1 = np.array([[1,2], [3,4]], dtype=np.float64)\n",
        "m2 = np.array([[5,6], [7,8]], dtype=np.float64)\n",
        "\n",
        "#elementwise sum\n",
        "print_val(m1 + m2)\n",
        "print_val(np.add(m1, m2))"
      ],
      "metadata": {
        "colab": {
          "base_uri": "https://localhost:8080/"
        },
        "id": "VobU1oVEQpF9",
        "outputId": "ebd00c50-a2b2-4931-ca80-b0c4b560866c"
      },
      "execution_count": null,
      "outputs": [
        {
          "output_type": "stream",
          "name": "stdout",
          "text": [
            "Type: <class 'numpy.ndarray'>\n",
            "shape: (2, 2)\n",
            "값:\n",
            " [[ 6.  8.]\n",
            " [10. 12.]]\n",
            " \n",
            "Type: <class 'numpy.ndarray'>\n",
            "shape: (2, 2)\n",
            "값:\n",
            " [[ 6.  8.]\n",
            " [10. 12.]]\n",
            " \n"
          ]
        }
      ]
    },
    {
      "cell_type": "code",
      "source": [
        "#elementwise difference\n",
        "print_val(m1 - m2)\n",
        "print_val(np.subtract(m1, m2))"
      ],
      "metadata": {
        "colab": {
          "base_uri": "https://localhost:8080/"
        },
        "id": "gSVw8oxORGUs",
        "outputId": "dc61b250-e7c0-4167-b17f-aa109e18aada"
      },
      "execution_count": null,
      "outputs": [
        {
          "output_type": "stream",
          "name": "stdout",
          "text": [
            "Type: <class 'numpy.ndarray'>\n",
            "shape: (2, 2)\n",
            "값:\n",
            " [[-4. -4.]\n",
            " [-4. -4.]]\n",
            " \n",
            "Type: <class 'numpy.ndarray'>\n",
            "shape: (2, 2)\n",
            "값:\n",
            " [[-4. -4.]\n",
            " [-4. -4.]]\n",
            " \n"
          ]
        }
      ]
    },
    {
      "cell_type": "code",
      "source": [
        "#elementwise product\n",
        "print_val(m1 * m2)\n",
        "print_val(np.multiply(m1, m2))"
      ],
      "metadata": {
        "colab": {
          "base_uri": "https://localhost:8080/"
        },
        "id": "999EnkGvRN7p",
        "outputId": "1d945e2f-ac1f-4299-967c-c4d2d5619d12"
      },
      "execution_count": null,
      "outputs": [
        {
          "output_type": "stream",
          "name": "stdout",
          "text": [
            "Type: <class 'numpy.ndarray'>\n",
            "shape: (2, 2)\n",
            "값:\n",
            " [[ 5. 12.]\n",
            " [21. 32.]]\n",
            " \n",
            "Type: <class 'numpy.ndarray'>\n",
            "shape: (2, 2)\n",
            "값:\n",
            " [[ 5. 12.]\n",
            " [21. 32.]]\n",
            " \n"
          ]
        }
      ]
    },
    {
      "cell_type": "code",
      "source": [
        "#elementwise division\n",
        "print_val(m1 / m2)\n",
        "print_val(np.divide(m1, m2))"
      ],
      "metadata": {
        "colab": {
          "base_uri": "https://localhost:8080/"
        },
        "id": "Swlbi80NRcMC",
        "outputId": "9d889e0e-824b-4fbf-f996-20bc4f8b41c3"
      },
      "execution_count": null,
      "outputs": [
        {
          "output_type": "stream",
          "name": "stdout",
          "text": [
            "Type: <class 'numpy.ndarray'>\n",
            "shape: (2, 2)\n",
            "값:\n",
            " [[0.2        0.33333333]\n",
            " [0.42857143 0.5       ]]\n",
            " \n",
            "Type: <class 'numpy.ndarray'>\n",
            "shape: (2, 2)\n",
            "값:\n",
            " [[0.2        0.33333333]\n",
            " [0.42857143 0.5       ]]\n",
            " \n"
          ]
        }
      ]
    },
    {
      "cell_type": "code",
      "source": [
        "#elementwise square root\n",
        "print_val(np.sqrt(m1))"
      ],
      "metadata": {
        "colab": {
          "base_uri": "https://localhost:8080/"
        },
        "id": "-ZcXD5UMRi6W",
        "outputId": "1b5258d1-87e0-4a6f-9660-29738c72841a"
      },
      "execution_count": null,
      "outputs": [
        {
          "output_type": "stream",
          "name": "stdout",
          "text": [
            "Type: <class 'numpy.ndarray'>\n",
            "shape: (2, 2)\n",
            "값:\n",
            " [[1.         1.41421356]\n",
            " [1.73205081 2.        ]]\n",
            " \n"
          ]
        }
      ]
    },
    {
      "cell_type": "markdown",
      "source": [
        "행렬 연산"
      ],
      "metadata": {
        "id": "bLBWnBigRpEi"
      }
    },
    {
      "cell_type": "code",
      "source": [
        "m1 = np.array([[1,2], [3,4]]) # (2,2)\n",
        "m2 = np.array([[5,6], [7,8]]) # (2,2)\n",
        "v1 = np.array([9,10]) # (2,1) #[[9,10]] (1,2)\n",
        "v2 = np.array([11,12]) # (2,1)\n",
        "\n",
        "print_val(m1)\n",
        "print_val(m2)\n",
        "print_val(v1)\n",
        "print_val(v2)"
      ],
      "metadata": {
        "colab": {
          "base_uri": "https://localhost:8080/"
        },
        "id": "FhPXcUjURqCn",
        "outputId": "5fa9cacb-8a2e-4e5c-f9f1-a9e340987b45"
      },
      "execution_count": null,
      "outputs": [
        {
          "output_type": "stream",
          "name": "stdout",
          "text": [
            "Type: <class 'numpy.ndarray'>\n",
            "shape: (2, 2)\n",
            "값:\n",
            " [[1 2]\n",
            " [3 4]]\n",
            " \n",
            "Type: <class 'numpy.ndarray'>\n",
            "shape: (2, 2)\n",
            "값:\n",
            " [[5 6]\n",
            " [7 8]]\n",
            " \n",
            "Type: <class 'numpy.ndarray'>\n",
            "shape: (2,)\n",
            "값:\n",
            " [ 9 10]\n",
            " \n",
            "Type: <class 'numpy.ndarray'>\n",
            "shape: (2,)\n",
            "값:\n",
            " [11 12]\n",
            " \n"
          ]
        }
      ]
    },
    {
      "cell_type": "markdown",
      "source": [
        "벡터-벡터 연산"
      ],
      "metadata": {
        "id": "J1WsM3YTSeNc"
      }
    },
    {
      "cell_type": "code",
      "source": [
        "print_val(v1.dot(v2))\n",
        "print_val(np.dot(v1, v2))"
      ],
      "metadata": {
        "colab": {
          "base_uri": "https://localhost:8080/"
        },
        "id": "9fbhQjAVSf9a",
        "outputId": "6adb8220-7d60-4320-acd8-5325e78f5af6"
      },
      "execution_count": null,
      "outputs": [
        {
          "output_type": "stream",
          "name": "stdout",
          "text": [
            "Type: <class 'numpy.int64'>\n",
            "shape: ()\n",
            "값:\n",
            " 219\n",
            " \n",
            "Type: <class 'numpy.int64'>\n",
            "shape: ()\n",
            "값:\n",
            " 219\n",
            " \n"
          ]
        }
      ]
    },
    {
      "cell_type": "markdown",
      "source": [
        "벡터-행렬 연산"
      ],
      "metadata": {
        "id": "hXoP08m9S4Op"
      }
    },
    {
      "cell_type": "code",
      "source": [
        "print_val(m1.dot(v1)) # (2,2) x (2,1) -> (2,1)\n",
        "print_val(np.dot(m1, v1))"
      ],
      "metadata": {
        "colab": {
          "base_uri": "https://localhost:8080/"
        },
        "id": "qvaCfP6MSsrI",
        "outputId": "3bbbda13-0e7b-48f3-e0ef-913cd3490102"
      },
      "execution_count": null,
      "outputs": [
        {
          "output_type": "stream",
          "name": "stdout",
          "text": [
            "Type: <class 'numpy.ndarray'>\n",
            "shape: (2,)\n",
            "값:\n",
            " [29 67]\n",
            " \n",
            "Type: <class 'numpy.ndarray'>\n",
            "shape: (2,)\n",
            "값:\n",
            " [29 67]\n",
            " \n"
          ]
        }
      ]
    },
    {
      "cell_type": "markdown",
      "source": [
        "행렬-행렬 연산"
      ],
      "metadata": {
        "id": "e8af5dhpS5tN"
      }
    },
    {
      "cell_type": "code",
      "source": [
        "print_val(m1.dot(m2))\n",
        "print_val(np.dot(m1, m2))"
      ],
      "metadata": {
        "colab": {
          "base_uri": "https://localhost:8080/"
        },
        "id": "Zrk6wbXbS7kG",
        "outputId": "126f3ad2-dc24-42c6-c7af-82f114683429"
      },
      "execution_count": null,
      "outputs": [
        {
          "output_type": "stream",
          "name": "stdout",
          "text": [
            "Type: <class 'numpy.ndarray'>\n",
            "shape: (2, 2)\n",
            "값:\n",
            " [[19 22]\n",
            " [43 50]]\n",
            " \n",
            "Type: <class 'numpy.ndarray'>\n",
            "shape: (2, 2)\n",
            "값:\n",
            " [[19 22]\n",
            " [43 50]]\n",
            " \n"
          ]
        }
      ]
    },
    {
      "cell_type": "markdown",
      "source": [
        "전치 행렬"
      ],
      "metadata": {
        "id": "gq8x2NmtTBCC"
      }
    },
    {
      "cell_type": "code",
      "source": [
        "print_val(m1)\n",
        "print_val(m1.T)"
      ],
      "metadata": {
        "colab": {
          "base_uri": "https://localhost:8080/"
        },
        "id": "KNgJS1bhTCLl",
        "outputId": "bbe0cb04-a419-4d13-a1b3-9e75940ca88d"
      },
      "execution_count": null,
      "outputs": [
        {
          "output_type": "stream",
          "name": "stdout",
          "text": [
            "Type: <class 'numpy.ndarray'>\n",
            "shape: (2, 2)\n",
            "값:\n",
            " [[1 2]\n",
            " [3 4]]\n",
            " \n",
            "Type: <class 'numpy.ndarray'>\n",
            "shape: (2, 2)\n",
            "값:\n",
            " [[1 3]\n",
            " [2 4]]\n",
            " \n"
          ]
        }
      ]
    },
    {
      "cell_type": "markdown",
      "source": [
        "합"
      ],
      "metadata": {
        "id": "NCtJ2MeiTYl3"
      }
    },
    {
      "cell_type": "code",
      "source": [
        "print_val(np.sum(m1)) #행렬의 모든 원소의 합\n",
        "print_val(np.sum(m1, axis=0)) #shape[0] (행) 을 압축시키자. (2,2) -> (2,)\n",
        "print_val(np.sum(m1, axis=1)) #shape[1] (열) 을 압축시키자. (2,2) -> (2,)"
      ],
      "metadata": {
        "colab": {
          "base_uri": "https://localhost:8080/"
        },
        "id": "uI4KOlboTZp2",
        "outputId": "18f5b53a-07ad-4735-ae49-92739acef82c"
      },
      "execution_count": null,
      "outputs": [
        {
          "output_type": "stream",
          "name": "stdout",
          "text": [
            "Type: <class 'numpy.int64'>\n",
            "shape: ()\n",
            "값:\n",
            " 10\n",
            " \n",
            "Type: <class 'numpy.ndarray'>\n",
            "shape: (2,)\n",
            "값:\n",
            " [4 6]\n",
            " \n",
            "Type: <class 'numpy.ndarray'>\n",
            "shape: (2,)\n",
            "값:\n",
            " [3 7]\n",
            " \n"
          ]
        }
      ]
    },
    {
      "cell_type": "code",
      "source": [
        "m1 = np.array([[1,2,3], [4,5,6]])\n",
        "print (m1)\n",
        "print (m1.shape) # (2,3)"
      ],
      "metadata": {
        "colab": {
          "base_uri": "https://localhost:8080/"
        },
        "id": "7XZRXafiT12s",
        "outputId": "b74168cb-d580-4466-8ec4-9f27b4b4e3aa"
      },
      "execution_count": null,
      "outputs": [
        {
          "output_type": "stream",
          "name": "stdout",
          "text": [
            "[[1 2 3]\n",
            " [4 5 6]]\n",
            "(2, 3)\n"
          ]
        }
      ]
    },
    {
      "cell_type": "code",
      "source": [
        "print (np.sum(m1))\n",
        "print (np.sum(m1, axis=0)) #shape[0] (행) 을 압축시키자. (2,3) -> (3,)\n",
        "print (np.sum(m1, axis=1)) #shape[1] (열) 을 압축시키자. (2,3) -> (2,)"
      ],
      "metadata": {
        "colab": {
          "base_uri": "https://localhost:8080/"
        },
        "id": "PMH6vgDAUdr-",
        "outputId": "2578e16e-6be2-4578-eaaa-6268d5758f94"
      },
      "execution_count": null,
      "outputs": [
        {
          "output_type": "stream",
          "name": "stdout",
          "text": [
            "21\n",
            "[5 7 9]\n",
            "[ 6 15]\n"
          ]
        }
      ]
    },
    {
      "cell_type": "markdown",
      "source": [
        "zeros-like"
      ],
      "metadata": {
        "id": "Q_iLwb5uVps1"
      }
    },
    {
      "cell_type": "code",
      "source": [
        "m1 = np.array([[1,2,3],\n",
        "               [4,5,6],\n",
        "               [7,8,9],\n",
        "               [10,11,12]])\n",
        "m2 = np.zeros_like(m1)\n",
        "print_val(m1)\n",
        "print_val(m2)"
      ],
      "metadata": {
        "colab": {
          "base_uri": "https://localhost:8080/"
        },
        "id": "WRTNyMpIVr1i",
        "outputId": "1987d968-536e-43ad-da24-cc0c2eea094e"
      },
      "execution_count": null,
      "outputs": [
        {
          "output_type": "stream",
          "name": "stdout",
          "text": [
            "Type: <class 'numpy.ndarray'>\n",
            "shape: (4, 3)\n",
            "값:\n",
            " [[ 1  2  3]\n",
            " [ 4  5  6]\n",
            " [ 7  8  9]\n",
            " [10 11 12]]\n",
            " \n",
            "Type: <class 'numpy.ndarray'>\n",
            "shape: (4, 3)\n",
            "값:\n",
            " [[0 0 0]\n",
            " [0 0 0]\n",
            " [0 0 0]\n",
            " [0 0 0]]\n",
            " \n"
          ]
        }
      ]
    },
    {
      "cell_type": "markdown",
      "source": [
        "matplot library"
      ],
      "metadata": {
        "id": "HItBi1RrWCpe"
      }
    },
    {
      "cell_type": "code",
      "source": [
        "import matplotlib.pyplot as plt\n",
        "%matplotlib inline\n",
        "\n",
        "#sin 커브\n",
        "x = np.arange(0, 10, 0.1) #0~10 까찌 0.1 간격의 숫자 배열\n",
        "y = np.sin(x)\n",
        "\n",
        "plt.plot(x,y)"
      ],
      "metadata": {
        "colab": {
          "base_uri": "https://localhost:8080/",
          "height": 448
        },
        "id": "BpNwPPeHWFOg",
        "outputId": "4285d94f-2ba1-492a-e918-7134556f502e"
      },
      "execution_count": null,
      "outputs": [
        {
          "output_type": "execute_result",
          "data": {
            "text/plain": [
              "[<matplotlib.lines.Line2D at 0x7a23f2ee6f20>]"
            ]
          },
          "metadata": {},
          "execution_count": 36
        },
        {
          "output_type": "display_data",
          "data": {
            "text/plain": [
              "<Figure size 640x480 with 1 Axes>"
            ],
            "image/png": "[encoded data removed]"
          },
          "metadata": {}
        }
      ]
    },
    {
      "cell_type": "markdown",
      "source": [
        "한 번에 두 개 그래프 그리기"
      ],
      "metadata": {
        "id": "oytCJs8fWfEn"
      }
    },
    {
      "cell_type": "code",
      "source": [
        "y_sin = np.sin(x)\n",
        "y_cos = np.cos(x)\n",
        "\n",
        "plt.plot(x, y_sin)\n",
        "plt.plot(x, y_cos)\n",
        "plt.xlabel('x axis label')\n",
        "plt.ylabel('y axis label')\n",
        "plt.title('sin and cos')\n",
        "plt.legend(['sin', 'cos'])\n",
        "\n",
        "plt.show()"
      ],
      "metadata": {
        "colab": {
          "base_uri": "https://localhost:8080/",
          "height": 472
        },
        "id": "fVuky4ztWhpD",
        "outputId": "eafd55d8-d620-4a3f-be76-03eb94040e2b"
      },
      "execution_count": null,
      "outputs": [
        {
          "output_type": "display_data",
          "data": {
            "text/plain": [
              "<Figure size 640x480 with 1 Axes>"
            ],
            "image/png": "[encoded data removed]"
          },
          "metadata": {}
        }
      ]
    },
    {
      "cell_type": "markdown",
      "source": [
        " Subplot"
      ],
      "metadata": {
        "id": "q_yGdX_UXGa7"
      }
    },
    {
      "cell_type": "code",
      "source": [
        "plt.subplot(2, 1, 1) # (2,1) 형태 플랏의 첫 번째 자리에 그리겠다\n",
        "plt.plot(x, y_sin)\n",
        "plt.title('sin')\n",
        "\n",
        "plt.subplot(2, 1, 2)\n",
        "plt.plot(x, y_cos)\n",
        "plt.title('cos')\n",
        "\n",
        "plt.show()"
      ],
      "metadata": {
        "colab": {
          "base_uri": "https://localhost:8080/",
          "height": 452
        },
        "id": "074q8n5rXHsn",
        "outputId": "04834ef4-2ea8-4ec2-cbf0-15ac6a5ae0b8"
      },
      "execution_count": null,
      "outputs": [
        {
          "output_type": "display_data",
          "data": {
            "text/plain": [
              "<Figure size 640x480 with 2 Axes>"
            ],
            "image/png": "[encoded data removed]"
          },
          "metadata": {}
        }
      ]
    },
    {
      "cell_type": "markdown",
      "source": [
        "02_선형대수_matplotlib"
      ],
      "metadata": {
        "id": "MFMVCBEGV8QV"
      }
    },
    {
      "cell_type": "code",
      "source": [
        "점 그리기"
      ],
      "metadata": {
        "id": "YQ3V2j98WGE5"
      },
      "execution_count": null,
      "outputs": []
    },
    {
      "cell_type": "code",
      "source": [
        "import numpy as np\n",
        "import matplotlib.pyplot as plt\n",
        "\n",
        "a = np.array([4,3])\n",
        "\n",
        "fig = plt.figure()\n",
        "\n",
        "ax = fig.add_subplot(1,1,1)\n",
        "\n",
        "ax.scatter(a[0], a[1], s=30)\n",
        "\n",
        "ax.text(a[0]+0.2, a[1]+0.2, 'a',size=15 )\n",
        "\n",
        "ax.set_xticks(range(-5,6))\n",
        "ax.set_yticks(range(-5,6))\n",
        "\n",
        "ax.grid()\n",
        "ax.set_aspect('equal', adjustable='box')\n",
        "\n",
        "ax.spines['left'].set_position('zero')\n",
        "ax.spines['bottom'].set_position('zero')\n",
        "\n",
        "ax.spines['right'].set_color('none')\n",
        "ax.spines['top'].set_color('none')"
      ],
      "metadata": {
        "colab": {
          "base_uri": "https://localhost:8080/",
          "height": 420
        },
        "id": "ZhNcW9MGWH6s",
        "outputId": "8cd78d7e-78f5-4c6a-fc97-9873881c7c8a"
      },
      "execution_count": null,
      "outputs": [
        {
          "output_type": "display_data",
          "data": {
            "text/plain": [
              "<Figure size 640x480 with 1 Axes>"
            ],
            "image/png": "[encoded data removed]"
          },
          "metadata": {}
        }
      ]
    },
    {
      "cell_type": "markdown",
      "source": [
        "화살표 그리기\n"
      ],
      "metadata": {
        "id": "fOfCr5n6X_JO"
      }
    },
    {
      "cell_type": "code",
      "source": [
        "import numpy as np\n",
        "import matplotlib.pyplot as plt\n",
        "\n",
        "a = np.array([4,3])\n",
        "\n",
        "fig=plt.figure()\n",
        "\n",
        "ax=fig.add_subplot(1,1,1)\n",
        "\n",
        "ax.quiver(0,0,a[0],a[1],angles='xy', scale_units='xy', scale=1)\n",
        "ax.text(a[0], a[1], 'a',size =15)\n",
        "\n",
        "ax.set_xticks(range(0,7))\n",
        "ax.set_yticks(range(0,7))\n",
        "\n",
        "ax.grid()\n",
        "ax.set_axisbelow(True)\n",
        "\n",
        "ax.set_aspect('equal', adjustable='box')\n",
        "\n",
        "ax.spines['left'].set_position('zero')\n",
        "ax.spines['bottom'].set_position('zero')\n",
        "\n",
        "ax.spines['right'].set_color('none')\n",
        "ax.spines['top'].set_color('none')\n",
        "plt.show()\n",
        "\n"
      ],
      "metadata": {
        "colab": {
          "base_uri": "https://localhost:8080/",
          "height": 432
        },
        "id": "uiWOSeEEYAwg",
        "outputId": "76e00ceb-b55e-4fc8-bd24-dff17bf20a29"
      },
      "execution_count": null,
      "outputs": [
        {
          "output_type": "display_data",
          "data": {
            "text/plain": [
              "<Figure size 640x480 with 1 Axes>"
            ],
            "image/png": "[encoded data removed]"
          },
          "metadata": {}
        }
      ]
    },
    {
      "cell_type": "markdown",
      "source": [
        "다수의 서브플롯 사용하기"
      ],
      "metadata": {
        "id": "zhjriJ3DaD5p"
      }
    },
    {
      "cell_type": "code",
      "source": [
        "import numpy as np\n",
        "import matplotlib.pyplot as plt\n",
        "\n",
        "A = np.array([1,-2])\n",
        "B = np.array([4,3])\n",
        "\n",
        "f,ax= plt.subplots(1,2)\n",
        "ax[0].title.set_text('A')\n",
        "ax[1].title.set_text('B')\n",
        "\n",
        "ax[0].quiver(0,0,A[0],a[1],angles='xy',scale_units='xy',scale=1)\n",
        "ax[1].quiver(0,0,B[0],B[1],angles='xy',scale_units='xy',scale =1)\n",
        "\n",
        "start_x = -1\n",
        "end_x = 5\n",
        "start_y = -3\n",
        "end_y = 4\n",
        "for i in range(2):\n",
        "  ax[i].axis([start_x,end_x,start_y,end_y])\n",
        "  ax[i].set_xticks(range(start_x,end_x))\n",
        "  ax[i].set_yticks(range(start_y,end_y))\n",
        "  ax[i].grid(True)\n",
        "  ax[i].set_aspect('equal',adjustable='box')\n",
        "\n",
        "plt.show()"
      ],
      "metadata": {
        "colab": {
          "base_uri": "https://localhost:8080/",
          "height": 346
        },
        "id": "Q68sGNA_aGGG",
        "outputId": "58469223-cba1-4437-e4b6-da04ffe09c28"
      },
      "execution_count": null,
      "outputs": [
        {
          "output_type": "display_data",
          "data": {
            "text/plain": [
              "<Figure size 640x480 with 2 Axes>"
            ],
            "image/png": "[encoded data removed]"
          },
          "metadata": {}
        }
      ]
    },
    {
      "cell_type": "markdown",
      "source": [
        "3차원 공간에 화살표 그리기"
      ],
      "metadata": {
        "id": "I3E56DhLceET"
      }
    },
    {
      "cell_type": "code",
      "source": [
        "import numpy as np\n",
        "import matplotlib.pyplot as plt\n",
        "\n",
        "A = np.array([4,5,6])\n",
        "fig=plt.figure()\n",
        "\n",
        "ax=fig.add_subplot(1,1,1,projection ='3d')\n",
        "\n",
        "ax.quiver(0,0,0,A[0],A[1],A[2],color='black',arrow_length_ratio=0.1)\n",
        "ax.text(A[0],A[1],A[2], 'a', size=15)\n",
        "\n",
        "ax.set_xlim(0,8)\n",
        "ax.set_ylim(0,8)\n",
        "ax.set_zlim(0,8)\n",
        "ax.set_xlabel('x')\n",
        "ax.set_xlabel('Y')\n",
        "ax.set_xlabel('z')\n",
        "ax.view_init(elev=20., azim=5)\n",
        "ax.grid()\n",
        "ax.set_axisbelow(True)\n",
        "ax.set_aspect('auto', adjustable='box')\n",
        "plt.show()"
      ],
      "metadata": {
        "colab": {
          "base_uri": "https://localhost:8080/",
          "height": 406
        },
        "id": "OCE51tK5cc1L",
        "outputId": "944cddb3-a149-4be7-856f-2d8a745485d9"
      },
      "execution_count": null,
      "outputs": [
        {
          "output_type": "display_data",
          "data": {
            "text/plain": [
              "<Figure size 640x480 with 1 Axes>"
            ],
            "image/png": "[encoded data removed]"
          },
          "metadata": {}
        }
      ]
    },
    {
      "cell_type": "markdown",
      "source": [
        "벡터의 성분"
      ],
      "metadata": {
        "id": "3w1zvX4Vdp8j"
      }
    },
    {
      "cell_type": "code",
      "source": [
        "import numpy as np\n",
        "import matplotlib.pyplot as plt\n",
        "\n",
        "i=np.array([1,0])\n",
        "j=np.array([0,1])\n",
        "\n",
        "a=4*i+3*j\n",
        "\n",
        "fig = plt.figure()\n",
        "ax = fig.add_subplot(1,1,1)\n",
        "\n",
        "ax.quiver(0,0,a[0],a[1],angles='xy',scale_units='xy',scale=1)\n",
        "ax.text(a[0],a[1],'4i+3j',size=15)\n",
        "\n",
        "ax.set_xticks(range(0,7))\n",
        "ax.set_yticks(range(0,7))\n",
        "ax.grid()\n",
        "ax.set_axisbelow(True)\n",
        "ax.set_aspect('equal', adjustable='box')\n",
        "\n",
        "ax.spines['left'].set_position('zero')\n",
        "ax.spines['bottom'].set_position('zero')\n",
        "ax.spines['right'].set_color('none')\n",
        "ax.spines['top'].set_color('none')\n",
        "plt.show()"
      ],
      "metadata": {
        "colab": {
          "base_uri": "https://localhost:8080/",
          "height": 432
        },
        "id": "8h6gvTTZdr1H",
        "outputId": "f528dd0b-eab2-465e-edeb-c5428bdf520f"
      },
      "execution_count": null,
      "outputs": [
        {
          "output_type": "display_data",
          "data": {
            "text/plain": [
              "<Figure size 640x480 with 1 Axes>"
            ],
            "image/png": "[encoded data removed]"
          },
          "metadata": {}
        }
      ]
    },
    {
      "cell_type": "markdown",
      "source": [
        "벡터의 기본 연산 (덧셈)"
      ],
      "metadata": {
        "id": "0jzZHd-ChlFi"
      }
    },
    {
      "cell_type": "code",
      "source": [
        "import numpy as np\n",
        "import matplotlib.pyplot as plt\n",
        "\n",
        "a=np.array([4,1])\n",
        "b=np.array([-2,3])\n",
        "sum = a+b\n",
        "\n",
        "fig=plt.figure()\n",
        "ax = fig.add_subplot(1,1,1)\n",
        "\n",
        "ax.quiver(0,0,a[0],a[1],angles='xy',scale_units='xy',scale=1,color='blue')\n",
        "ax.text(a[0],a[1],'a',size=15)\n",
        "\n",
        "ax.quiver(a[0],a[1],b[0],b[1],angles='xy',scale_units='xy',scale=1,color='green')\n",
        "ax.text(a[0] + b[0], a[1] + b[1], 'b', size=15)\n",
        "\n",
        "ax.quiver(0,0,sum[0], sum[1],angles='xy',scale_units='xy',scale=1,color='red')\n",
        "ax.text(sum[0]*0.5+0.3, b[1], 'a+b',size=15, color='blue')\n",
        "\n",
        "ax.set_xticks(range(0,7))\n",
        "ax.set_yticks(range(0,7))\n",
        "ax.grid()\n",
        "ax.set_axisbelow(True)\n",
        "ax.set_aspect('equal', adjustable='box')\n",
        "\n",
        "ax.spines['left'].set_position('zero')\n",
        "ax.spines['bottom'].set_position('zero')\n",
        "ax.spines['right'].set_color('none')\n",
        "ax.spines['top'].set_color('none')\n",
        "plt.show()"
      ],
      "metadata": {
        "colab": {
          "base_uri": "https://localhost:8080/",
          "height": 432
        },
        "id": "NpbpsndHfwM2",
        "outputId": "ac702faf-d094-429e-a461-736e5300a847"
      },
      "execution_count": null,
      "outputs": [
        {
          "output_type": "display_data",
          "data": {
            "text/plain": [
              "<Figure size 640x480 with 1 Axes>"
            ],
            "image/png": "[encoded data removed]"
          },
          "metadata": {}
        }
      ]
    },
    {
      "cell_type": "markdown",
      "source": [
        "벡터의 기본 연산 ( 뺄셈 )"
      ],
      "metadata": {
        "id": "9ubNMD4mhjcG"
      }
    },
    {
      "cell_type": "code",
      "source": [
        "import numpy as np\n",
        "import matplotlib.pyplot as plt\n",
        "\n",
        "a=np.array([4,1])\n",
        "b=np.array([-2,3])\n",
        "sum = a-b\n",
        "\n",
        "fig=plt.figure()\n",
        "ax = fig.add_subplot(1,1,1)\n",
        "\n",
        "ax.quiver(0,0,a[0],a[1],angles='xy',scale_units='xy',scale=1,color='blue')\n",
        "ax.text(a[0],a[1],'a',size=15)\n",
        "\n",
        "ax.quiver(a[0],a[1],-b[0],-b[1],angles='xy',scale_units='xy',scale=1,color='green')\n",
        "ax.text(a[0] - b[0], a[1] - b[1], 'b', size=15)\n",
        "\n",
        "ax.quiver(0,0,sum[0], sum[1],angles='xy',scale_units='xy',scale=1,color='red')\n",
        "ax.text(sum[0]*0.5+0.3, b[1], 'a+b',size=15, color='blue')\n",
        "\n",
        "ax.set_xticks(range(-2,8))\n",
        "ax.set_yticks(range(-4,5))\n",
        "ax.grid()\n",
        "ax.set_axisbelow(True)\n",
        "ax.set_aspect('equal', adjustable='box')\n",
        "\n",
        "ax.spines['left'].set_position('zero')\n",
        "ax.spines['bottom'].set_position('zero')\n",
        "ax.spines['right'].set_color('none')\n",
        "ax.spines['top'].set_color('none')\n",
        "plt.show()"
      ],
      "metadata": {
        "colab": {
          "base_uri": "https://localhost:8080/",
          "height": 420
        },
        "id": "B885GktNj5wG",
        "outputId": "e02facc0-be4b-4568-db47-cbb836e50df0"
      },
      "execution_count": null,
      "outputs": [
        {
          "output_type": "display_data",
          "data": {
            "text/plain": [
              "<Figure size 640x480 with 1 Axes>"
            ],
            "image/png": "[encoded data removed]"
          },
          "metadata": {}
        }
      ]
    },
    {
      "cell_type": "markdown",
      "source": [
        "기본 연산 스칼라곱"
      ],
      "metadata": {
        "id": "I_uPHBEpkW2g"
      }
    },
    {
      "cell_type": "code",
      "source": [
        "import numpy as np\n",
        "import matplotlib.pyplot as plt\n",
        "\n",
        "a=np.array([4,1])\n",
        "c=3\n",
        "ca=np.multiply(c,a)\n",
        "\n",
        "fig=plt.figure()\n",
        "ax = fig.add_subplot(1,1,1)\n",
        "\n",
        "ax.quiver(0,0,a[0],a[1],angles='xy',scale_units='xy',scale=1,color='blue')\n",
        "ax.text(a[0],a[1],'a',size=15)\n",
        "\n",
        "ax.quiver(0,1,ca[0],ca[1],angles='xy',scale_units='xy',scale=1,color='green')\n",
        "ax.text(ca[0],ca[1]+1 ,'3a', size=15, color='blue')\n",
        "\n",
        "ax.set_xticks(range(-2,15))\n",
        "ax.set_yticks(range(-3,9))\n",
        "ax.grid()\n",
        "ax.set_axisbelow(True)\n",
        "ax.set_aspect('equal', adjustable='box')\n",
        "\n",
        "ax.spines['left'].set_position('zero')\n",
        "ax.spines['bottom'].set_position('zero')\n",
        "ax.spines['right'].set_color('none')\n",
        "ax.spines['top'].set_color('none')\n",
        "plt.show()"
      ],
      "metadata": {
        "colab": {
          "base_uri": "https://localhost:8080/",
          "height": 392
        },
        "id": "LRRYwQYOkZ6c",
        "outputId": "876f6dd8-009f-46b0-ad9c-e9a609cb7a5d"
      },
      "execution_count": null,
      "outputs": [
        {
          "output_type": "display_data",
          "data": {
            "text/plain": [
              "<Figure size 640x480 with 1 Axes>"
            ],
            "image/png": "[encoded data removed]"
          },
          "metadata": {}
        }
      ]
    },
    {
      "cell_type": "markdown",
      "source": [
        "내적"
      ],
      "metadata": {
        "id": "uTnt2GDNlKPg"
      }
    },
    {
      "cell_type": "code",
      "source": [
        "import numpy as np\n",
        "a = np.array([1,2])\n",
        "b=np.array([2,3])\n",
        "print(np.dot(a,b))\n",
        "\n",
        "a= np.array([1,2])\n",
        "print(np.linalg.norm(a))\n",
        "print(np.sqrt(5))"
      ],
      "metadata": {
        "colab": {
          "base_uri": "https://localhost:8080/"
        },
        "id": "5M2VFRQolLC0",
        "outputId": "fa49d0ef-9aa9-404c-bfdd-3feb71875a1f"
      },
      "execution_count": null,
      "outputs": [
        {
          "output_type": "stream",
          "name": "stdout",
          "text": [
            "8\n",
            "2.23606797749979\n",
            "2.23606797749979\n"
          ]
        }
      ]
    },
    {
      "cell_type": "code",
      "source": [
        "import numpy as np\n",
        "a=np.array([1,2])\n",
        "\n",
        "print(np.sqrt(np.dot(a,a)))\n",
        "print(np.linalg.norm(a))"
      ],
      "metadata": {
        "colab": {
          "base_uri": "https://localhost:8080/"
        },
        "id": "hxp4KELPlp9o",
        "outputId": "b0f6b492-8e3f-4fc3-9108-5105ce471b5c"
      },
      "execution_count": null,
      "outputs": [
        {
          "output_type": "stream",
          "name": "stdout",
          "text": [
            "2.23606797749979\n",
            "2.23606797749979\n"
          ]
        }
      ]
    },
    {
      "cell_type": "code",
      "source": [
        "import numpy as np\n",
        "a=np.array([3,0])\n",
        "b=np.array([0,3])\n",
        "print(np.dot(a,b))"
      ],
      "metadata": {
        "colab": {
          "base_uri": "https://localhost:8080/"
        },
        "id": "2ESLCbGWl2Mh",
        "outputId": "16dd2f0b-1ecd-4f14-e971-8828a21402cd"
      },
      "execution_count": null,
      "outputs": [
        {
          "output_type": "stream",
          "name": "stdout",
          "text": [
            "0\n"
          ]
        }
      ]
    },
    {
      "cell_type": "markdown",
      "source": [
        "외적"
      ],
      "metadata": {
        "id": "mGgsZkFDmBfs"
      }
    },
    {
      "cell_type": "code",
      "source": [
        "import numpy as np\n",
        "v= np.array([5,3,0])\n",
        "w=np.array([1,2,0])\n",
        "\n",
        "print(np.cross(v,w))"
      ],
      "metadata": {
        "colab": {
          "base_uri": "https://localhost:8080/"
        },
        "id": "_qxb7oq-l-_S",
        "outputId": "0129db9c-0e3f-4f2c-cd37-f8946c5015eb"
      },
      "execution_count": null,
      "outputs": [
        {
          "output_type": "stream",
          "name": "stdout",
          "text": [
            "[0 0 7]\n"
          ]
        }
      ]
    },
    {
      "cell_type": "code",
      "source": [
        "import numpy as np\n",
        "import matplotlib.pyplot as plt\n",
        "from mpl_toolkits.mplot3d import Axes3D\n",
        "a= np.array([5,3,0])\n",
        "b=np.array([1,2,0])\n",
        "\n",
        "c=np.cross(a,b)\n",
        "fig=plt.figure()\n",
        "ax = fig.add_subplot(1,1,1, projection='3d')\n",
        "\n",
        "ax.quiver(0,0,0,a[0], a[1], a[2], color='black', arrow_length_ratio=0.1)\n",
        "ax.text(a[0],a[1], a[2], 'a',size=15)\n",
        "\n",
        "ax.quiver(0,0,0,b[0], b[1], b[2], color='red', arrow_length_ratio=0.1)\n",
        "ax.text(b[0],b[1], b[2], 'b',size=15)\n",
        "\n",
        "ax.quiver(0,0,0,c[0], c[1], c[2], color='blue', arrow_length_ratio=0.1)\n",
        "ax.text(c[0],c[1], c[2], 'c',size=15)\n",
        "\n",
        "ax.set_xlim(0,7)\n",
        "ax.set_ylim(0,7)\n",
        "ax.set_zlim(0,8)\n",
        "ax.set_xlabel('x')\n",
        "ax.set_xlabel('y')\n",
        "ax.set_xlabel('z')\n",
        "ax.view_init(elev=20,azim=5)\n",
        "\n",
        "\n",
        "ax.grid()\n",
        "ax.set_axisbelow(True)\n",
        "ax.set_aspect('auto', adjustable='box')\n",
        "plt.show()"
      ],
      "metadata": {
        "colab": {
          "base_uri": "https://localhost:8080/",
          "height": 406
        },
        "id": "IoAbge3mmNxK",
        "outputId": "c7fc76b9-9219-4aaf-f256-6ee32ee1e377"
      },
      "execution_count": null,
      "outputs": [
        {
          "output_type": "display_data",
          "data": {
            "text/plain": [
              "<Figure size 640x480 with 1 Axes>"
            ],
            "image/png": "[encoded data removed]"
          },
          "metadata": {}
        }
      ]
    },
    {
      "cell_type": "code",
      "source": [
        "import numpy as np\n",
        "import matplotlib.pyplot as plt\n",
        "from mpl_toolkits.mplot3d import Axes3D\n",
        "a= np.array([3,3,0])\n",
        "b=np.array([6,6,0])\n",
        "\n",
        "c=np.cross(a,b)\n",
        "fig=plt.figure()\n",
        "ax = fig.add_subplot(1,1,1, projection='3d')\n",
        "\n",
        "ax.quiver(0,0,0,a[0], a[1], a[2], color='black', arrow_length_ratio=0.1)\n",
        "ax.text(a[0],a[1], a[2], 'a',size=15)\n",
        "\n",
        "ax.quiver(0,0,0,b[0], b[1], b[2], color='red', arrow_length_ratio=0.1)\n",
        "ax.text(b[0],b[1], b[2], 'b',size=15)\n",
        "\n",
        "ax.quiver(0,0,0,c[0], c[1], c[2], color='blue', arrow_length_ratio=0.1)\n",
        "ax.text(c[0],c[1], c[2], 'c',size=15)\n",
        "\n",
        "ax.set_xlim(0,7)\n",
        "ax.set_ylim(0,7)\n",
        "ax.set_zlim(0,8)\n",
        "ax.set_xlabel('x')\n",
        "ax.set_xlabel('y')\n",
        "ax.set_xlabel('z')\n",
        "ax.view_init(elev=20,azim=5)\n",
        "\n",
        "\n",
        "ax.grid()\n",
        "ax.set_axisbelow(True)\n",
        "ax.set_aspect('auto', adjustable='box')\n",
        "plt.show()"
      ],
      "metadata": {
        "colab": {
          "base_uri": "https://localhost:8080/",
          "height": 406
        },
        "id": "Eu_uYug0qQ1p",
        "outputId": "a6a32a7a-bd7a-4af9-cfc3-99691acb2e4e"
      },
      "execution_count": null,
      "outputs": [
        {
          "output_type": "display_data",
          "data": {
            "text/plain": [
              "<Figure size 640x480 with 1 Axes>"
            ],
            "image/png": "[encoded data removed]"
          },
          "metadata": {}
        }
      ]
    },
    {
      "cell_type": "markdown",
      "source": [
        "행렬의 정의"
      ],
      "metadata": {
        "id": "tgMuFhc3qkF-"
      }
    },
    {
      "cell_type": "code",
      "source": [
        "import numpy as np\n",
        "A = np.array([[1,2,3,4],[5,6,7,8]])\n",
        "\n",
        "print(A[0])\n",
        "print(A[0, :])\n",
        "print(A[1])\n",
        "print(A[1,:])\n",
        "\n",
        "print(A[:, 0])\n",
        "print(A[:, 1])\n",
        "print(A[:, 2])\n",
        "print(A[:, 3])"
      ],
      "metadata": {
        "colab": {
          "base_uri": "https://localhost:8080/"
        },
        "id": "jvgkysW_qlhL",
        "outputId": "18c0f935-74d4-49b2-b3d2-2d549156d64b"
      },
      "execution_count": null,
      "outputs": [
        {
          "output_type": "stream",
          "name": "stdout",
          "text": [
            "[1 2 3 4]\n",
            "[1 2 3 4]\n",
            "[5 6 7 8]\n",
            "[5 6 7 8]\n",
            "[1 5]\n",
            "[2 6]\n",
            "[3 7]\n",
            "[4 8]\n"
          ]
        }
      ]
    },
    {
      "cell_type": "code",
      "source": [
        "import numpy as np\n",
        "A = np.array([[1,2],[3,4]])\n",
        "B = np.array([[4,1],[5,2]])\n",
        "\n",
        "print(A+B)\n",
        "print(np.add(A,B))\n",
        "print(A-B)\n",
        "print(np.subtract(A,B))"
      ],
      "metadata": {
        "colab": {
          "base_uri": "https://localhost:8080/"
        },
        "id": "X8FAGiXSq9x8",
        "outputId": "14ea1df7-2206-4fce-ae99-8bff8554f2cf"
      },
      "execution_count": null,
      "outputs": [
        {
          "output_type": "stream",
          "name": "stdout",
          "text": [
            "[[5 3]\n",
            " [8 6]]\n",
            "[[5 3]\n",
            " [8 6]]\n",
            "[[-3  1]\n",
            " [-2  2]]\n",
            "[[-3  1]\n",
            " [-2  2]]\n"
          ]
        }
      ]
    },
    {
      "cell_type": "code",
      "source": [
        "import numpy as np\n",
        "A = np.arange(9).reshape(3,3)\n",
        "print(A)\n",
        "c=10\n",
        "print(np.multiply(c,A))\n",
        "print(c*A)"
      ],
      "metadata": {
        "colab": {
          "base_uri": "https://localhost:8080/"
        },
        "id": "pShXBcwcrX4J",
        "outputId": "a6230499-c16a-4783-c2ef-35c7af39229d"
      },
      "execution_count": null,
      "outputs": [
        {
          "output_type": "stream",
          "name": "stdout",
          "text": [
            "[[0 1 2]\n",
            " [3 4 5]\n",
            " [6 7 8]]\n",
            "[[ 0 10 20]\n",
            " [30 40 50]\n",
            " [60 70 80]]\n",
            "[[ 0 10 20]\n",
            " [30 40 50]\n",
            " [60 70 80]]\n"
          ]
        }
      ]
    },
    {
      "cell_type": "code",
      "source": [
        "import numpy as np\n",
        "A = np.array([[1,2,3],[4,5,6]])\n",
        "B = np.array([[4,1],[5,2], [1,2]])\n",
        "\n",
        "print(A)\n",
        "print(B)\n",
        "\n",
        "print(A.dot(B))\n",
        "print(np.dot(A,B))"
      ],
      "metadata": {
        "colab": {
          "base_uri": "https://localhost:8080/"
        },
        "id": "1x_x1wu5rs-_",
        "outputId": "e1215719-fb3a-43af-9283-ea121b4d03bf"
      },
      "execution_count": null,
      "outputs": [
        {
          "output_type": "stream",
          "name": "stdout",
          "text": [
            "[[1 2 3]\n",
            " [4 5 6]]\n",
            "[[4 1]\n",
            " [5 2]\n",
            " [1 2]]\n",
            "[[17 11]\n",
            " [47 26]]\n",
            "[[17 11]\n",
            " [47 26]]\n"
          ]
        }
      ]
    },
    {
      "cell_type": "code",
      "source": [
        "import numpy as np\n",
        "A = np.array([[1,2],[3,4]])\n",
        "B = np.array([[4,1],[5,2]])\n",
        "\n",
        "print(A*B)\n",
        "print(np.multiply(A,B))"
      ],
      "metadata": {
        "colab": {
          "base_uri": "https://localhost:8080/"
        },
        "id": "3OfSMcO1sMJ-",
        "outputId": "7e4e8363-461d-4302-be0e-184bbc09d518"
      },
      "execution_count": null,
      "outputs": [
        {
          "output_type": "stream",
          "name": "stdout",
          "text": [
            "[[ 4  2]\n",
            " [15  8]]\n",
            "[[ 4  2]\n",
            " [15  8]]\n"
          ]
        }
      ]
    },
    {
      "cell_type": "code",
      "source": [
        "import numpy as np\n",
        "X = np.array([[1,2],[3,4],[5,6]])\n",
        "print(X)\n",
        "print(X.T)\n",
        "print(np.transpose(X))"
      ],
      "metadata": {
        "colab": {
          "base_uri": "https://localhost:8080/"
        },
        "id": "ulP2AjABsfFO",
        "outputId": "354d6f05-f1a8-42a8-d462-2dcaef8f1edb"
      },
      "execution_count": null,
      "outputs": [
        {
          "output_type": "stream",
          "name": "stdout",
          "text": [
            "[[1 2]\n",
            " [3 4]\n",
            " [5 6]]\n",
            "[[1 3 5]\n",
            " [2 4 6]]\n",
            "[[1 3 5]\n",
            " [2 4 6]]\n"
          ]
        }
      ]
    },
    {
      "cell_type": "code",
      "source": [
        "import numpy as np\n",
        "I = np.eye(3)\n",
        "A=np.arange(9).reshape(3,3)\n",
        "print(A)\n",
        "\n",
        "print((np.dot(A,I)==A).all())\n",
        "print((np.dot(I,A)== A).all())"
      ],
      "metadata": {
        "colab": {
          "base_uri": "https://localhost:8080/"
        },
        "id": "kKlpx60psuC_",
        "outputId": "8ca22b99-04b3-4d90-dff6-889e63f18604"
      },
      "execution_count": null,
      "outputs": [
        {
          "output_type": "stream",
          "name": "stdout",
          "text": [
            "[[0 1 2]\n",
            " [3 4 5]\n",
            " [6 7 8]]\n",
            "True\n",
            "True\n"
          ]
        }
      ]
    },
    {
      "cell_type": "code",
      "source": [
        "import numpy as np\n",
        "A = np.array([[1,2],[3,4]])\n",
        "invA=np.linalg.inv(A)\n",
        "print(invA)\n",
        "\n",
        "print(np.dot(A, invA))\n",
        "print(np.round(np.dot(A, invA)))\n",
        "print(np.round(np.dot(invA,A)))\n"
      ],
      "metadata": {
        "colab": {
          "base_uri": "https://localhost:8080/"
        },
        "id": "Bq5A2tR_tLuE",
        "outputId": "2b8d82ee-a753-40b6-880d-fde1bf36102e"
      },
      "execution_count": null,
      "outputs": [
        {
          "output_type": "stream",
          "name": "stdout",
          "text": [
            "[[-2.   1. ]\n",
            " [ 1.5 -0.5]]\n",
            "[[1.0000000e+00 0.0000000e+00]\n",
            " [8.8817842e-16 1.0000000e+00]]\n",
            "[[1. 0.]\n",
            " [0. 1.]]\n",
            "[[1. 0.]\n",
            " [0. 1.]]\n"
          ]
        }
      ]
    },
    {
      "cell_type": "code",
      "source": [],
      "metadata": {
        "id": "4ravMVVEuvei"
      },
      "execution_count": null,
      "outputs": []
    }
  ]
}