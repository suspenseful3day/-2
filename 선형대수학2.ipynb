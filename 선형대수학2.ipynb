{
  "nbformat": 4,
  "nbformat_minor": 0,
  "metadata": {
    "colab": {
      "provenance": [],
      "authorship_tag": "ABX9TyNl8upOWVTymNWTaEvgY9Zl",
      "include_colab_link": true
    },
    "kernelspec": {
      "name": "python3",
      "display_name": "Python 3"
    },
    "language_info": {
      "name": "python"
    }
  },
  "cells": [
    {
      "cell_type": "markdown",
      "metadata": {
        "id": "view-in-github",
        "colab_type": "text"
      },
      "source": [
        "<a href=\"https://colab.research.google.com/github/suspenseful3day/sun2/blob/main/%EC%84%A0%ED%98%95%EB%8C%80%EC%88%98%ED%95%992.ipynb\" target=\"_parent\"><img src=\"https://colab.research.google.com/assets/colab-badge.svg\" alt=\"Open In Colab\"/></a>"
      ]
    },
    {
      "cell_type": "code",
      "execution_count": 3,
      "metadata": {
        "colab": {
          "base_uri": "https://localhost:8080/"
        },
        "id": "dG9ggx2fQ-V2",
        "outputId": "cb8e0d3f-1578-4820-c2e6-e24764d8064b"
      },
      "outputs": [
        {
          "output_type": "stream",
          "name": "stdout",
          "text": [
            "Hello, world\n",
            "정수: 3, 03, 003, 0003, 00003\n",
            "실수: 256, 256.1, 256.12\n",
            "문자열: [Hello, world]\n"
          ]
        }
      ],
      "source": [
        "print(\"Hello, world\")\n",
        "\n",
        "#integer\n",
        "x=3\n",
        "print(\"정수: %01d, %02d, %03d, %04d, %05d\"\n",
        "%(x,x,x,x,x)  )\n",
        "\n",
        "#float\n",
        "x=256.123\n",
        "print(\"실수: %.0f, %.1f, %.2f\"\n",
        "%(x,x,x))\n",
        "\n",
        "#string\n",
        "x=\"Hello, world\"\n",
        "print(\"문자열: [%s]\"%(x))"
      ]
    },
    {
      "cell_type": "code",
      "source": [
        "contents= [\"Regration\", \"Classification\", \"SVM\", \"Clustering\", \"Dimension reduction\", \"NN\", \"CNN\", \"AE\", \"GAN\", \"RNN\"]\n",
        "for con in contents:\n",
        "  if con in[\"Regration\", \"Classification\", \"SVM\", \"Clustering\", \"Dimension reduction\"]:\n",
        "    print(\"%s은(는) 기계학습 내용입니다.\"%con)\n",
        "  elif con in [\"CNN\"]:\n",
        "    print(\"%s은(는) convolutional neural network입니다\"%con)\n",
        "  else:\n",
        "    print(\"%s은(는) 심층학습 내용입니다\"%con)\n"
      ],
      "metadata": {
        "colab": {
          "base_uri": "https://localhost:8080/"
        },
        "id": "M7Pt1inbZO34",
        "outputId": "4fe8785f-8703-4609-daf7-c96a384f3be5"
      },
      "execution_count": 5,
      "outputs": [
        {
          "output_type": "stream",
          "name": "stdout",
          "text": [
            "Regration은(는) 기계학습 내용입니다.\n",
            "Classification은(는) 기계학습 내용입니다.\n",
            "SVM은(는) 기계학습 내용입니다.\n",
            "Clustering은(는) 기계학습 내용입니다.\n",
            "Dimension reduction은(는) 기계학습 내용입니다.\n",
            "NN은(는) 심층학습 내용입니다\n",
            "CNN은(는) convolutional neural network입니다\n",
            "AE은(는) 심층학습 내용입니다\n",
            "GAN은(는) 심층학습 내용입니다\n",
            "RNN은(는) 심층학습 내용입니다\n"
          ]
        }
      ]
    },
    {
      "cell_type": "code",
      "source": [
        "for (i,con) in enumerate(contents):\n",
        "  print(\"[%d/%d]: %s\"%(i,len(contents), con))"
      ],
      "metadata": {
        "colab": {
          "base_uri": "https://localhost:8080/"
        },
        "id": "auv8s6nDa9uL",
        "outputId": "e97e590d-872c-47fa-d19b-304fa3991659"
      },
      "execution_count": 6,
      "outputs": [
        {
          "output_type": "stream",
          "name": "stdout",
          "text": [
            "[0/10]: Regration\n",
            "[1/10]: Classification\n",
            "[2/10]: SVM\n",
            "[3/10]: Clustering\n",
            "[4/10]: Dimension reduction\n",
            "[5/10]: NN\n",
            "[6/10]: CNN\n",
            "[7/10]: AE\n",
            "[8/10]: GAN\n",
            "[9/10]: RNN\n"
          ]
        }
      ]
    },
    {
      "cell_type": "code",
      "source": [
        "def sum(a,b):\n",
        "  return a+b\n",
        "\n",
        "x=10.0\n",
        "y=20.0\n",
        "print (\"%.1f + %.1f = %.1f\" %(x,y,sum(x,y)))"
      ],
      "metadata": {
        "colab": {
          "base_uri": "https://localhost:8080/"
        },
        "id": "EKckA2QSbSTm",
        "outputId": "17ab044b-a797-4a8c-dd9e-eef9571abbcd"
      },
      "execution_count": 7,
      "outputs": [
        {
          "output_type": "stream",
          "name": "stdout",
          "text": [
            "10.0 + 20.0 = 30.0\n"
          ]
        }
      ]
    },
    {
      "cell_type": "code",
      "source": [
        "a=[]\n",
        "b=[1,2,3]\n",
        "c=[\"Hello\", \",\" \"world\"]\n",
        "d=[1,2,3,\"x\",\"y\",\"z\"]\n",
        "x=[]\n",
        "print(x)\n",
        "\n",
        "x.append('a')\n",
        "print(x)\n",
        "\n",
        "x.append(123)\n",
        "print(x)\n",
        "\n",
        "x.append([\"a\", \"b\"])\n",
        "print(x)"
      ],
      "metadata": {
        "colab": {
          "base_uri": "https://localhost:8080/"
        },
        "id": "6fW7Xd8ebtvm",
        "outputId": "1eba3a27-9b9d-4912-e9c0-f5abcd63b795"
      },
      "execution_count": 10,
      "outputs": [
        {
          "output_type": "stream",
          "name": "stdout",
          "text": [
            "[]\n",
            "['a']\n",
            "['a', 123]\n",
            "['a', 123, ['a', 'b']]\n"
          ]
        }
      ]
    },
    {
      "cell_type": "code",
      "source": [
        "dic =  dict()\n",
        "dic[\"name\"] = \"MINSUNG\"\n",
        "dic[\"town\"] = \"INCHEON\"\n",
        "dic[\"job\"] = \"STUDENT\"\n",
        "print(dic)"
      ],
      "metadata": {
        "colab": {
          "base_uri": "https://localhost:8080/"
        },
        "id": "GUdUEe7tcv8Q",
        "outputId": "3e5b47a4-a11c-4a5e-fea3-bbad846dd6fc"
      },
      "execution_count": 11,
      "outputs": [
        {
          "output_type": "stream",
          "name": "stdout",
          "text": [
            "{'name': 'MINSUNG', 'town': 'INCHEON', 'job': 'STUDENT'}\n"
          ]
        }
      ]
    },
    {
      "cell_type": "code",
      "source": [
        "class student:\n",
        "  #생성자\n",
        "  def __init__(self,name):\n",
        "    self.name = name\n",
        "  #매서드\n",
        "  def study(self, hard=False):\n",
        "    if hard:\n",
        "      print(\"%s 학생은 열심히 공부합니다.\" %self.name)\n",
        "    else:\n",
        "      print(\"%s 학생은 공부합니다\" %self.name)\n",
        "\n",
        "s = student('MINSUNG')\n",
        "s.study()\n",
        "s.study(hard=True)"
      ],
      "metadata": {
        "colab": {
          "base_uri": "https://localhost:8080/"
        },
        "id": "I0FwvI_fdKcC",
        "outputId": "9fc39cea-370e-46cc-c7ba-5d689f93c04b"
      },
      "execution_count": 12,
      "outputs": [
        {
          "output_type": "stream",
          "name": "stdout",
          "text": [
            "MINSUNG 학생은 공부합니다\n",
            "MINSUNG 학생은 열심히 공부합니다.\n"
          ]
        }
      ]
    },
    {
      "cell_type": "code",
      "source": [
        "from google.colab import drive\n",
        "drive.mount('/content/drive')"
      ],
      "metadata": {
        "colab": {
          "base_uri": "https://localhost:8080/"
        },
        "id": "cSlPFX3QSWJL",
        "outputId": "d9611502-9cc6-407f-ec19-70423990232c"
      },
      "execution_count": 1,
      "outputs": [
        {
          "output_type": "stream",
          "name": "stdout",
          "text": [
            "Mounted at /content/drive\n"
          ]
        }
      ]
    }
  ]
}