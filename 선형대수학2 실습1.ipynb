{
  "nbformat": 4,
  "nbformat_minor": 0,
  "metadata": {
    "colab": {
      "provenance": [],
      "authorship_tag": "ABX9TyNVUTgUvTS7rle+G6uMQ1tE",
      "include_colab_link": true
    },
    "kernelspec": {
      "name": "python3",
      "display_name": "Python 3"
    },
    "language_info": {
      "name": "python"
    }
  },
  "cells": [
    {
      "cell_type": "markdown",
      "metadata": {
        "id": "view-in-github",
        "colab_type": "text"
      },
      "source": [
        "<a href=\"https://colab.research.google.com/github/suspenseful3day/sun2/blob/main/%EC%84%A0%ED%98%95%EB%8C%80%EC%88%98%ED%95%992%20%EC%8B%A4%EC%8A%B51.ipynb\" target=\"_parent\"><img src=\"https://colab.research.google.com/assets/colab-badge.svg\" alt=\"Open In Colab\"/></a>"
      ]
    },
    {
      "cell_type": "code",
      "execution_count": 3,
      "metadata": {
        "colab": {
          "base_uri": "https://localhost:8080/"
        },
        "id": "dG9ggx2fQ-V2",
        "outputId": "cb8e0d3f-1578-4820-c2e6-e24764d8064b"
      },
      "outputs": [
        {
          "output_type": "stream",
          "name": "stdout",
          "text": [
            "Hello, world\n",
            "정수: 3, 03, 003, 0003, 00003\n",
            "실수: 256, 256.1, 256.12\n",
            "문자열: [Hello, world]\n"
          ]
        }
      ],
      "source": [
        "print(\"Hello, world\")\n",
        "\n",
        "#integer\n",
        "x=3\n",
        "print(\"정수: %01d, %02d, %03d, %04d, %05d\"\n",
        "%(x,x,x,x,x)  )\n",
        "\n",
        "#float\n",
        "x=256.123\n",
        "print(\"실수: %.0f, %.1f, %.2f\"\n",
        "%(x,x,x))\n",
        "\n",
        "#string\n",
        "x=\"Hello, world\"\n",
        "print(\"문자열: [%s]\"%(x))"
      ]
    },
    {
      "cell_type": "code",
      "source": [
        "from google.colab import drive\n",
        "drive.mount('/content/drive')"
      ],
      "metadata": {
        "colab": {
          "base_uri": "https://localhost:8080/"
        },
        "id": "cSlPFX3QSWJL",
        "outputId": "d9611502-9cc6-407f-ec19-70423990232c"
      },
      "execution_count": 1,
      "outputs": [
        {
          "output_type": "stream",
          "name": "stdout",
          "text": [
            "Mounted at /content/drive\n"
          ]
        }
      ]
    }
  ]
}